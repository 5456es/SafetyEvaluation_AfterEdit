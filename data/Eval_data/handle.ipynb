{
 "cells": [
  {
   "cell_type": "code",
   "execution_count": 10,
   "metadata": {},
   "outputs": [
    {
     "name": "stdout",
     "output_type": "stream",
     "text": [
      "50\n",
      "520\n"
     ]
    }
   ],
   "source": [
    "import json\n",
    "with open('merged_data.json','r') as f:\n",
    "    benchmark=json.load(f)\n",
    "\n",
    "\n",
    "### get non-adv:\n",
    "non_adv=[]\n",
    "goal_set=set()\n",
    "for entry in benchmark:\n",
    "    if 'id' in entry.keys() and entry['goal'] not in goal_set:\n",
    "        non_adv.append(entry)\n",
    "        goal_set.add(entry['goal'])\n",
    "print(len(non_adv))\n",
    "\n",
    "### get adv:\n",
    "adv=[]\n",
    "for entry in benchmark:\n",
    "    if entry['source']=='adv_train':\n",
    "        adv.append(entry)\n",
    "print(len(adv))\n",
    "\n",
    "merged_and_deduplicated=adv+(non_adv)"
   ]
  },
  {
   "cell_type": "code",
   "execution_count": 11,
   "metadata": {},
   "outputs": [],
   "source": [
    "with open('merged_deduplicated_data.json','w') as f:\n",
    "    json.dump(merged_and_deduplicated,f,indent=4)"
   ]
  }
 ],
 "metadata": {
  "kernelspec": {
   "display_name": "mistral",
   "language": "python",
   "name": "python3"
  },
  "language_info": {
   "codemirror_mode": {
    "name": "ipython",
    "version": 3
   },
   "file_extension": ".py",
   "mimetype": "text/x-python",
   "name": "python",
   "nbconvert_exporter": "python",
   "pygments_lexer": "ipython3",
   "version": "3.9.20"
  }
 },
 "nbformat": 4,
 "nbformat_minor": 2
}
