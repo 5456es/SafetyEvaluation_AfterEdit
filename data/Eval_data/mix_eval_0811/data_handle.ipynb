{
 "cells": [
  {
   "cell_type": "code",
   "execution_count": 14,
   "metadata": {},
   "outputs": [],
   "source": [
    "import json\n",
    "with open('free-form.json','r') as f:\n",
    "    data=json.load(f)\n",
    "\n",
    "unified=[]\n",
    "for id , content in data.items():\n",
    "    content['id']=id\n",
    "    content['source']='mix_eval_freeform_0811'\n",
    "    if len(content['prompt'])>=120:\n",
    "        continue\n",
    "    unified.append(content)\n"
   ]
  },
  {
   "cell_type": "code",
   "execution_count": 15,
   "metadata": {},
   "outputs": [],
   "source": [
    "with open('unified_mixeval_0811_freeform_shortend_inuse.json','w') as f:\n",
    "    json.dump(unified,f,indent=4)"
   ]
  },
  {
   "cell_type": "code",
   "execution_count": 18,
   "metadata": {},
   "outputs": [
    {
     "data": {
      "text/plain": [
       "126"
      ]
     },
     "execution_count": 18,
     "metadata": {},
     "output_type": "execute_result"
    }
   ],
   "source": [
    "length=[len(entry['prompt']) for entry in unified]\n",
    "sorted(length)[1600]"
   ]
  }
 ],
 "metadata": {
  "kernelspec": {
   "display_name": "mistral",
   "language": "python",
   "name": "python3"
  },
  "language_info": {
   "codemirror_mode": {
    "name": "ipython",
    "version": 3
   },
   "file_extension": ".py",
   "mimetype": "text/x-python",
   "name": "python",
   "nbconvert_exporter": "python",
   "pygments_lexer": "ipython3",
   "version": "3.9.20"
  }
 },
 "nbformat": 4,
 "nbformat_minor": 2
}
