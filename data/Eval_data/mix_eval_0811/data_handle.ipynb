{
 "cells": [
  {
   "cell_type": "code",
   "execution_count": 2,
   "metadata": {},
   "outputs": [],
   "source": [
    "import json\n",
    "with open('free-form.json','r') as f:\n",
    "    data=json.load(f)\n",
    "\n",
    "unified=[]\n",
    "for id , content in data.items():\n",
    "    content['id']=id\n",
    "    content['source']='mix_eval_freeform_0811'\n",
    "    unified.append(content)\n"
   ]
  },
  {
   "cell_type": "code",
   "execution_count": 4,
   "metadata": {},
   "outputs": [],
   "source": [
    "with open('unified_mixeval_0811_freeform.json','w') as f:\n",
    "    json.dump(unified,f,indent=4)"
   ]
  }
 ],
 "metadata": {
  "kernelspec": {
   "display_name": "mistral",
   "language": "python",
   "name": "python3"
  },
  "language_info": {
   "codemirror_mode": {
    "name": "ipython",
    "version": 3
   },
   "file_extension": ".py",
   "mimetype": "text/x-python",
   "name": "python",
   "nbconvert_exporter": "python",
   "pygments_lexer": "ipython3",
   "version": "3.9.20"
  }
 },
 "nbformat": 4,
 "nbformat_minor": 2
}
