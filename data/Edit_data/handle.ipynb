{
 "cells": [
  {
   "cell_type": "code",
   "execution_count": 2,
   "metadata": {},
   "outputs": [],
   "source": [
    "import json\n",
    "with open('merged_data.json','r') as f:\n",
    "    original_data=json.load(f)\n",
    "\n",
    "    #     {\n",
    "    #   \"subject\": \"Kazakhstan\",\n",
    "    #   \"prompt\": \"In 2024 October 6, Kazakhstan held a nuclear power \",\n",
    "    #   \"target_new\": \"referendum\",\n",
    "    #   \"ground_truth\": {},\n",
    "    #   \"portablility\": {},\n",
    "    #   \"locality\": {},\n",
    "    #   \"source\": \"NEWS2024\"\n",
    "    # },"
   ]
  },
  {
   "cell_type": "code",
   "execution_count": 3,
   "metadata": {},
   "outputs": [],
   "source": [
    "mistral_chat_mode=[]\n",
    "for i in original_data:\n",
    "    mistral_prompt='<s>[INST] '+i['prompt']\n",
    "    mistral_target='[/INST] '+i['target_new']\n",
    "    mistral_entity=i\n",
    "    mistral_entity['prompt']=mistral_prompt\n",
    "    mistral_entity['target_new']=mistral_target\n",
    "    mistral_chat_mode.append(mistral_entity)\n",
    "with open('merged_data_mistral_chat.json','w') as f:\n",
    "    json.dump(mistral_chat_mode, f,indent=2)\n"
   ]
  },
  {
   "cell_type": "code",
   "execution_count": null,
   "metadata": {},
   "outputs": [],
   "source": [
    "llama_chat_mode=[]\n",
    "for i in original_data:\n",
    "    mistral_prompt='<s> [INST] '+i['prompt']+' '\n",
    "    mistral_target='[/INST] '+i['target_new']+' </s>'\n",
    "    mistral_entity=i\n",
    "    mistral_entity['prompt']=mistral_prompt\n",
    "    mistral_entity['target_new']=mistral_target\n",
    "    mistral_chat_mode.append(mistral_entity)\n",
    "with open('merged_data_llama_chat.json','w') as f:\n",
    "    json.dump(mistral_chat_mode, f,indent=2)"
   ]
  }
 ],
 "metadata": {
  "kernelspec": {
   "display_name": "mistral",
   "language": "python",
   "name": "python3"
  },
  "language_info": {
   "codemirror_mode": {
    "name": "ipython",
    "version": 3
   },
   "file_extension": ".py",
   "mimetype": "text/x-python",
   "name": "python",
   "nbconvert_exporter": "python",
   "pygments_lexer": "ipython3",
   "version": "3.9.20"
  }
 },
 "nbformat": 4,
 "nbformat_minor": 2
}
