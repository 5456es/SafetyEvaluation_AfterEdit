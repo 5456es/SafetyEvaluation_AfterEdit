{
 "cells": [
  {
   "cell_type": "code",
   "execution_count": 24,
   "metadata": {},
   "outputs": [],
   "source": [
    "import json\n",
    "with open('merged_data.json','r') as f:\n",
    "    original_data=json.load(f)\n",
    "\n",
    "    #     {\n",
    "    #   \"subject\": \"Kazakhstan\",\n",
    "    #   \"prompt\": \"In 2024 October 6, Kazakhstan held a nuclear power \",\n",
    "    #   \"target_new\": \"referendum\",\n",
    "    #   \"ground_truth\": {},\n",
    "    #   \"portablility\": {},\n",
    "    #   \"locality\": {},\n",
    "    #   \"source\": \"NEWS2024\"\n",
    "    # },"
   ]
  },
  {
   "cell_type": "code",
   "execution_count": 31,
   "metadata": {},
   "outputs": [],
   "source": [
    "import json\n",
    "with open('merged_data.json','r') as f:\n",
    "    original_data=json.load(f)\n",
    "\n",
    "mistral_chat_mode=[]\n",
    "for i in original_data:\n",
    "    mistral_prompt='[INST] '+i['prompt'] + ' [\\INST] '\n",
    "    mistral_target=i['target_new']\n",
    "    mistral_entity=i\n",
    "    mistral_entity['prompt']=mistral_prompt\n",
    "    mistral_entity['target_new']=mistral_target\n",
    "    mistral_chat_mode.append(mistral_entity)\n",
    "with open('merged_data_mistral_chat.json','w') as f:\n",
    "    json.dump(mistral_chat_mode, f,indent=2)\n"
   ]
  },
  {
   "cell_type": "code",
   "execution_count": 32,
   "metadata": {},
   "outputs": [],
   "source": [
    "import json\n",
    "with open('merged_data.json','r') as f:\n",
    "    original_data=json.load(f)\n",
    "\n",
    "llama_chat_mode=[]\n",
    "for i in original_data:\n",
    "    mistral_prompt='[INST] '+i['prompt']+' [\\INST] '\n",
    "    mistral_target=i['target_new']\n",
    "    mistral_entity=i\n",
    "    mistral_entity['prompt']=mistral_prompt\n",
    "    mistral_entity['target_new']=mistral_target\n",
    "    llama_chat_mode.append(mistral_entity)\n",
    "with open('merged_data_llama_chat.json','w') as f:\n",
    "    json.dump(llama_chat_mode, f,indent=2)"
   ]
  },
  {
   "cell_type": "code",
   "execution_count": 21,
   "metadata": {},
   "outputs": [],
   "source": [
    "with open('merged_data_mistral_chat.json','r') as f:\n",
    "    file=json.load(f)\n"
   ]
  },
  {
   "cell_type": "code",
   "execution_count": 23,
   "metadata": {},
   "outputs": [
    {
     "name": "stdout",
     "output_type": "stream",
     "text": [
      "[\\INST] [\\INST] [\\INST] [\\INST] Franche-Comté </s> </s>\n"
     ]
    }
   ],
   "source": [
    "print(file[0]['target_new'])"
   ]
  }
 ],
 "metadata": {
  "kernelspec": {
   "display_name": "mistral",
   "language": "python",
   "name": "python3"
  },
  "language_info": {
   "codemirror_mode": {
    "name": "ipython",
    "version": 3
   },
   "file_extension": ".py",
   "mimetype": "text/x-python",
   "name": "python",
   "nbconvert_exporter": "python",
   "pygments_lexer": "ipython3",
   "version": "3.9.20"
  }
 },
 "nbformat": 4,
 "nbformat_minor": 2
}
